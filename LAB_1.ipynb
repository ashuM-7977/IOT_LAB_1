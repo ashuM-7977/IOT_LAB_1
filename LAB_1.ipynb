{
 "cells": [
  {
   "cell_type": "code",
   "execution_count": 11,
   "id": "8c0e50f5",
   "metadata": {},
   "outputs": [
    {
     "name": "stdout",
     "output_type": "stream",
     "text": [
      "Type of a:  <class 'int'>\n",
      "\n",
      "Type of b:  <class 'float'>\n",
      "\n",
      "Type of c:  <class 'complex'>\n",
      "\n",
      " Welcome to the SEM 6\n",
      "\n",
      " <class 'str'>\n",
      "\n",
      " [1, 'IOT', (4+2j), 3.5]\n",
      "\n",
      " <class 'list'>\n",
      "\n",
      " (1, 'ashutosh', 2, 3, 4.95)\n",
      "\n",
      " <class 'tuple'>\n",
      "\n",
      " {1: 'IOT', 2: 'CMOS', 3: 'PED'}\n",
      "\n",
      " <class 'dict'>\n",
      "\n",
      " <class 'bool'>\n",
      "\n",
      " <class 'bool'>\n",
      "\n",
      " {1, 2, 'iot'}\n",
      "\n",
      " <class 'set'>\n"
     ]
    }
   ],
   "source": [
    "# Q.1.a)  Study and Install Python in Linux and WAP for data types in python.\n",
    "\n",
    "# Numeric\n",
    "a = 5 # int\n",
    "print(\"Type of a: \", type(a))\n",
    "  \n",
    "b = 5.0 # float\n",
    "print(\"\\nType of b: \", type(b))\n",
    "  \n",
    "c = 2 + 4j # complex\n",
    "print(\"\\nType of c: \", type(c))\n",
    "\n",
    "# Sequence type\n",
    "String1 = 'Welcome to the SEM 6' # string\n",
    "print(\"\\n\", String1) \n",
    "print(\"\\n\", type(String1))\n",
    "\n",
    "mylist = [1, 'IOT', 4+2j, 3.5] # list\n",
    "print(\"\\n\", mylist)\n",
    "print(\"\\n\", type(mylist))\n",
    "\n",
    "mytup = (1, 'ashutosh', 2, 3, 4.95) # tuple\n",
    "print(\"\\n\", mytup)\n",
    "print(\"\\n\", type(mytup))\n",
    "\n",
    "# dictionary\n",
    "mydict = {1:'IOT', 2:'CMOS', 3:'PED'}\n",
    "print(\"\\n\", mydict)\n",
    "print(\"\\n\", type(mydict))\n",
    "\n",
    "# boolean\n",
    "print(\"\\n\", type(True))\n",
    "print(\"\\n\", type(False))\n",
    "\n",
    "#set\n",
    "myset = {1, 2, 2, 2, 2, 'iot', 'iot'}\n",
    "print(\"\\n\", myset)\n",
    "print(\"\\n\", type(myset))"
   ]
  },
  {
   "cell_type": "code",
   "execution_count": 16,
   "id": "8befc49e",
   "metadata": {},
   "outputs": [
    {
     "name": "stdout",
     "output_type": "stream",
     "text": [
      "Enter first number: 1\n",
      "Enter second number: 5\n",
      "The sum of 1 and 5 is: 6\n",
      "The difference of 1 and 5 is: -4\n",
      "The multiplication of 1 and 5 is: 5\n",
      "The division of 1 and 5 is: 0.2\n",
      "The remainder division of 1 and 5 is: 1\n",
      "The exponential of 1 and 5 is: 1\n",
      "The floor division of 1 and 5 is: 0\n"
     ]
    }
   ],
   "source": [
    "# Q.1.b) Write a Program for arithmetic operation in Python.\n",
    "\n",
    "var1 = int(input(\"Enter first number: \"))\n",
    "var2 = int(input(\"Enter second number: \"))\n",
    "summation = var1 + var2\n",
    "diff = var1 - var2\n",
    "mul = var1 * var2\n",
    "div = var1 / var2\n",
    "mod = var1 % var2\n",
    "exp = var1 ** var2\n",
    "floordiv = var1 // var2\n",
    "print(\"The sum of\", var1, \"and\", var2, \"is:\", summation)\n",
    "print(\"The difference of\", var1, \"and\", var2, \"is:\", diff)\n",
    "print(\"The multiplication of\", var1, \"and\", var2, \"is:\", mul)\n",
    "print(\"The division of\", var1, \"and\", var2, \"is:\", div)\n",
    "print(\"The remainder division of\", var1, \"and\", var2, \"is:\", mod)\n",
    "print(\"The exponential of\", var1, \"and\", var2, \"is:\", exp)\n",
    "print(\"The floor division of\", var1, \"and\", var2, \"is:\", floordiv)"
   ]
  },
  {
   "cell_type": "code",
   "execution_count": 21,
   "id": "650a86c4",
   "metadata": {},
   "outputs": [
    {
     "name": "stdout",
     "output_type": "stream",
     "text": [
      "4\n",
      "2\n",
      "6\n",
      "7\n",
      "3\n",
      "5\n",
      "8\n",
      "10\n",
      "6\n",
      "1\n",
      "9\n",
      "2\n"
     ]
    }
   ],
   "source": [
    "# Q.1.c) Write a Program for looping statement in Python.\n",
    "\n",
    "# for loop\n",
    "numbers = [4, 2, 6, 7, 3, 5, 8, 10, 6, 1, 9, 2]  \n",
    "for i in numbers:\n",
    "    print(i)\n",
    "\n",
    "# while loop\n",
    "length = len(numbers)\n",
    "c = 0\n",
    "while(c<=length-1):\n",
    "    print(numbers[c])\n",
    "    c+=1"
   ]
  }
 ],
 "metadata": {
  "kernelspec": {
   "display_name": "Python 3 (ipykernel)",
   "language": "python",
   "name": "python3"
  },
  "language_info": {
   "codemirror_mode": {
    "name": "ipython",
    "version": 3
   },
   "file_extension": ".py",
   "mimetype": "text/x-python",
   "name": "python",
   "nbconvert_exporter": "python",
   "pygments_lexer": "ipython3",
   "version": "3.9.12"
  }
 },
 "nbformat": 4,
 "nbformat_minor": 5
}
